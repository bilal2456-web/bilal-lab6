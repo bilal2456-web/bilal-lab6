{
 "cells": [
  {
   "cell_type": "code",
   "execution_count": 1,
   "id": "b76f568d-9dc8-4cfe-b036-2232a0ca3127",
   "metadata": {},
   "outputs": [
    {
     "name": "stdout",
     "output_type": "stream",
     "text": [
      "Predicted price for an area of 8000 sq ft: $1,266,917.81\n"
     ]
    },
    {
     "name": "stderr",
     "output_type": "stream",
     "text": [
      "C:\\Users\\CW\\anaconda3\\Lib\\site-packages\\sklearn\\base.py:493: UserWarning: X does not have valid feature names, but LinearRegression was fitted with feature names\n",
      "  warnings.warn(\n"
     ]
    }
   ],
   "source": [
    "# Import necessary libraries\n",
    "import numpy as np\n",
    "import pandas as pd\n",
    "from sklearn.linear_model import LinearRegression\n",
    "\n",
    "# Create the dataset (from Table 1)\n",
    "data = {\n",
    "    'area': [2600, 3000, 3200, 3600, 4000],\n",
    "    'price': [550000, 565000, 610000, 680000, 725000]\n",
    "}\n",
    "\n",
    "# Convert the dataset into a pandas DataFrame\n",
    "df = pd.DataFrame(data)\n",
    "\n",
    "# Define the feature (area) and target (price)\n",
    "X = df[['area']]  # Features (independent variable)\n",
    "y = df['price']   # Target (dependent variable)\n",
    "\n",
    "# Initialize the linear regression model\n",
    "model = LinearRegression()\n",
    "\n",
    "# Train the model using the dataset\n",
    "model.fit(X, y)\n",
    "\n",
    "# Predict the price for an area of 8000 sq ft\n",
    "area_8000 = np.array([[8000]])  # 8000 sq ft\n",
    "predicted_price_8000 = model.predict(area_8000)\n",
    "\n",
    "# Print the predicted price for the area of 8000 sq ft\n",
    "print(f'Predicted price for an area of 8000 sq ft: ${predicted_price_8000[0]:,.2f}')\n"
   ]
  },
  {
   "cell_type": "code",
   "execution_count": null,
   "id": "d2dc1add-4eed-484d-8db9-22107bd67203",
   "metadata": {},
   "outputs": [],
   "source": []
  }
 ],
 "metadata": {
  "kernelspec": {
   "display_name": "Python 3 (ipykernel)",
   "language": "python",
   "name": "python3"
  },
  "language_info": {
   "codemirror_mode": {
    "name": "ipython",
    "version": 3
   },
   "file_extension": ".py",
   "mimetype": "text/x-python",
   "name": "python",
   "nbconvert_exporter": "python",
   "pygments_lexer": "ipython3",
   "version": "3.12.7"
  }
 },
 "nbformat": 4,
 "nbformat_minor": 5
}
