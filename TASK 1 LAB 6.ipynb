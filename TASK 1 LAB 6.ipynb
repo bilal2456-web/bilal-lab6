{
 "cells": [
  {
   "cell_type": "code",
   "execution_count": null,
   "id": "a128fbfb-82ff-4c0a-b1ac-9319129a42c7",
   "metadata": {},
   "outputs": [],
   "source": []
  }
 ],
 "metadata": {
  "kernelspec": {
   "display_name": "",
   "name": ""
  },
  "language_info": {
   "name": ""
  }
 },
 "nbformat": 4,
 "nbformat_minor": 5
}
